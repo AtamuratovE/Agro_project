{
 "cells": [
  {
   "cell_type": "code",
   "execution_count": 1,
   "id": "a054702c",
   "metadata": {},
   "outputs": [],
   "source": [
    "# lower_limit = 348.000000\n",
    "# upper_limit = 575.00000\n",
    "\n",
    "# # Generating numbers within the specified range in a list\n",
    "# numbers_list = [round(x, 6) for x in np.linspace(lower_limit, upper_limit, num=120)]\n",
    "# print(numbers_list)\n"
   ]
  },
  {
   "cell_type": "code",
   "execution_count": null,
   "id": "27b1385a",
   "metadata": {},
   "outputs": [],
   "source": []
  },
  {
   "cell_type": "code",
   "execution_count": null,
   "id": "1f957fdd",
   "metadata": {},
   "outputs": [],
   "source": []
  },
  {
   "cell_type": "code",
   "execution_count": null,
   "id": "cd63cb58",
   "metadata": {},
   "outputs": [],
   "source": []
  },
  {
   "cell_type": "code",
   "execution_count": 1,
   "id": "618b06fa",
   "metadata": {},
   "outputs": [
    {
     "name": "stdout",
     "output_type": "stream",
     "text": [
      "Formula 9\n",
      "    Sum_of_humid  sum_of_temp  him_by_temp  Degree_of_diseas %\n",
      "0            869          429         2.02                   0\n",
      "1            938          470         1.99                   0\n",
      "2           1542          379         4.06                  68\n",
      "3            852          575         1.48                   0\n",
      "4           1503          367         4.10                  58\n",
      "5           1151          502         2.29                  53\n",
      "6           1437          374         3.84                  61\n",
      "7            841          575         1.46                   0\n",
      "8           1568          348         4.51                  93\n",
      "9           1255          398         3.15                  73\n",
      "10          1119          438         2.55                   0\n",
      "11          1254          469         2.67                   0\n",
      "12           949          471         2.01                   0\n",
      "13          1325          433         3.06                   0\n",
      "14          1158          373         3.10                  52\n"
     ]
    }
   ],
   "source": [
    "import pandas as pd\n",
    "\n",
    "print('Formula 9')\n",
    "\n",
    "data = {\n",
    "    'Sum_of_humid': [869, 938, 1542, 852, 1503, 1151, 1437, 841, 1568, 1255, 1119, 1254, 949, 1325, 1158, ],\n",
    "    'sum_of_temp': [429, 470, 379, 575, 367, 502, 374, 575, 348, 398, 438, 469, 471, 433, 373],\n",
    "    'him_by_temp': [2.02, 1.99, 4.06, 1.48, 4.10, 2.29, 3.84, 1.46, 4.51, 3.15, 2.55, 2.67, 2.01, 3.06, 3.10],\n",
    "    'Degree_of_diseas %':[0, 0, 68, 0, 58, 53, 61, 0, 93, 73, 0, 0, 0, 0, 52]\n",
    "}\n",
    "\n",
    "\n",
    "df = pd.DataFrame(data)\n",
    "print(df)\n",
    "# Assuming 'data' is a DataFrame\n",
    "\n",
    "# df['him_by_temp'] = data['Sum_of_humid'] / data['sum_of_temp']\n",
    "\n"
   ]
  },
  {
   "cell_type": "code",
   "execution_count": 2,
   "id": "61bf81f3",
   "metadata": {},
   "outputs": [],
   "source": [
    "# import pandas as pd\n",
    "\n",
    "# data = {\n",
    "#     'Sum_of_humid': [869, 938, 1542, 852, 1503, 1151, 1437, 841, 1568, 1255, 1119, 1254, 949, 1325, 1158, 841.0, 1437, 841, 1568, 994.052632, 1032.315789, 1542, 852, 1503, 1185.368421, 1223.631579, 1261.894737, 1300.157895, 1338.421053, 1376.684211, 1414.947368, 1453.210526, 1491.473684, 1529.736842, 1568.0, 1437, 841, 1568, 865.436975, 1542, 852, 1503, 889.87395, 895.983193, 1437, 841, 1568, 920.420168, 926.529412, 932.638655, 938.747899, 944.857143, 950.966387, 957.07563, 963.184874, 969.294118, 975.403361, 981.512605, 987.621849, 993.731092, 999.840336, 1005.94958, 1012.058824, 1018.168067, 1024.277311, 1030.386555, 1036.495798, 1042.605042, 1048.714286, 1054.823529, 1060.932773, 1067.042017, 1073.151261, 1079.260504, 1085.369748, 1091.478992, 869, 938, 1542, 852, 1503, 1151, 1437, 841, 1568, 1255, 1119, 1254, 949, 1325, 1158, 1189.226891, 1195.336134, 1201.445378, 1207.554622, 1213.663866, 1219.773109, 1225.882353, 1231.991597, 1238.10084, 1244.210084, 1250.319328, 1256.428571, 1262.537815, 1268.647059, 1274.756303, 1280.865546, 1286.97479, 1293.084034, 1299.193277, 1542, 852, 1503, 1323.630252, 1437, 841, 1568, 1348.067227, 1354.176471, 1360.285714, 1366.394958, 1372.504202, 1378.613445, 1384.722689, 1390.831933, 1396.941176, 1403.05042, 1409.159664, 1415.268908, 1421.378151, 1427.487395, 1433.596639, 1439.705882, 1445.815126, 1451.92437, 1458.033613, 1464.142857, 1470.252101, 1476.361345, 1482.470588, 1488.579832, 1494.689076, 1500.798319, 1506.907563, 1513.016807, 1519.12605, 1525.235294, 1531.344538, 1537.453782, 1543.563025, 1549.672269, 1555.781513, 1561.890756],\n",
    "#     'sum_of_temp': [429, 470, 379, 575, 367, 502, 374, 575, 348, 398, 438, 469, 471, 433, 373, 348.0, 359.947368, 371.894737, 383.842105, 395.789474, 407.736842, 419.684211, 431.631579, 443.578947, 455.526316, 467.473684, 479.421053, 491.368421, 503.315789, 515.263158, 527.210526, 539.157895, 551.105263, 563.052632, 575.0, 349.907563, 351.815126, 353.722689, 355.630252, 357.537815, 359.445378, 361.352941, 363.260504, 365.168067, 367.07563, 368.983193, 370.890756, 372.798319, 374.705882, 376.613445, 378.521008, 380.428571, 382.336134, 384.243697, 386.151261, 388.058824, 389.966387, 391.87395, 393.781513, 395.689076, 397.596639, 399.504202, 401.411765, 557.831933, 559.739496, 575, 367, 502, 374, 575, 348, 398, 420.487395, 422.394958, 424.302521, 426.210084, 428.117647, 430.02521, 431.932773, 433.840336, 435.747899, 437.655462, 439.563025, 554.016807, 555.92437, 557.831933, 447.193277, 449.10084, 451.008403, 452.915966, 454.823529, 456.731092, 458.638655, 460.546218, 462.453782, 464.361345, 466.268908, 468.176471, 470.084034, 471.991597, 473.89916, 475.806723, 477.714286, 479.621849, 481.529412, 483.436975, 485.344538, 487.252101, 489.159664, 491.067227, 492.97479, 494.882353, 496.789916, 498.697479, 500.605042, 502.512605, 504.420168, 506.327731, 508.235294, 510.142857, 512.05042, 513.957983, 515.865546, 517.773109, 519.680672, 521.588235, 523.495798, 525.403361, 527.310924, 529.218487, 531.12605, 533.033613, 534.941176, 536.848739, 538.756303, 540.663866, 470, 379, 575, 367, 502, 552.109244, 554.016807, 555.92437, 557.831933, 559.739496, 575, 367, 502, 374, 575, 348, 398,]\n",
    "# }\n",
    "\n",
    "# df = pd.DataFrame(data)\n",
    "\n",
    "# # Calculate 'him_by_temp' and round to two decimal places\n",
    "# df['him_by_temp'] = (df['Sum_of_humid'] / df['sum_of_temp']).round(2)\n",
    "\n",
    "# print(df.to_string())\n"
   ]
  },
  {
   "cell_type": "code",
   "execution_count": 3,
   "id": "cf391409",
   "metadata": {},
   "outputs": [],
   "source": [
    "# df['Degree_of_diseas %'] = [0, 0, 68, 0, 58, 53, 61, 0, 93, 73, 0, 0, 0, 50, 70, 52, 80, 55, 0, 65, 0, 67, 81, 0,0,0,0,0,0,0,0,0,0,0, 70, 0, 75, 0, 67, 0, 80, 0, 90, 0, 75, 0, 68, 0, 0, 0, 0, 0, 0, 0, 0, 78, 0, 0, 0, 0, 0, 0, 0, 0, 0, 0, 0, 0, 0, 0, 0, 0, 0, 53, 0, 0, 0, 0, 0, 0, 0, 0, 0, 0, 0, 0, 0, 0, 0, 0, 0, 0, 0, 0, 0, 0, 0, 0, 0, 64, 76, 59, 91, 86, 78, 97, 96, 55, 99, 51, 52, 53, 54, 55, 56, 57, 58, 59, 60, 61, 62, 63, 64, 65, 66, 67, 68, 69, 70, 71, 72, 73, 74, 75, 76, 77, 78, 79, 80, 81, 82, 83, 84, 85, 86, 87, 88, 89, 90, 91, 92, 93, 94] "
   ]
  },
  {
   "cell_type": "code",
   "execution_count": 4,
   "id": "1a060f07",
   "metadata": {},
   "outputs": [],
   "source": [
    "# print(df.to_string())\n"
   ]
  },
  {
   "cell_type": "code",
   "execution_count": 5,
   "id": "6f75bc1d",
   "metadata": {},
   "outputs": [
    {
     "name": "stdout",
     "output_type": "stream",
     "text": [
      "    Sum_of_humid  sum_of_temp  him_by_temp  Degree_of_diseas %\n",
      "0          869.0        429.0         2.02                 0.0\n",
      "1          938.0        470.0         1.99                 0.0\n",
      "2         1542.0        379.0         4.06                68.0\n",
      "3          852.0        575.0         1.48                 0.0\n",
      "4         1503.0        367.0         4.10                58.0\n",
      "5         1151.0        502.0         2.29                53.0\n",
      "6         1437.0        374.0         3.84                61.0\n",
      "7          841.0        575.0         1.46                 0.0\n",
      "8         1568.0        348.0         4.51                93.0\n",
      "9         1255.0        398.0         3.15                73.0\n",
      "10        1119.0        438.0         2.55                 0.0\n",
      "11        1254.0        469.0         2.67                 0.0\n",
      "12         949.0        471.0         2.01                 0.0\n",
      "13        1325.0        433.0         3.06                 0.0\n",
      "14        1158.0        373.0         3.10                52.0\n",
      "34           NaN          NaN          NaN                 0.0\n"
     ]
    }
   ],
   "source": [
    "# Assuming your DataFrame is named 'df'\n",
    "row_index = 34  # Change this to the index of the row you want to modify\n",
    "\n",
    "# Changing the value in the 4th column for the specific row\n",
    "new_value = 0 # Replace this with the new value you want to assign\n",
    "df.loc[row_index, 'Degree_of_diseas %'] = new_value  # Replace 'Column_Name' with the actual name of the column\n",
    "\n",
    "# Print the DataFrame to verify the change\n",
    "print(df.to_string())\n"
   ]
  },
  {
   "cell_type": "code",
   "execution_count": 6,
   "id": "e879bd74",
   "metadata": {},
   "outputs": [
    {
     "data": {
      "image/png": "[encoded data removed]",
      "text/plain": [
       "<Figure size 800x600 with 1 Axes>"
      ]
     },
     "metadata": {},
     "output_type": "display_data"
    }
   ],
   "source": [
    "import matplotlib.pyplot as plt\n",
    "\n",
    "# Assuming 'df' is your DataFrame\n",
    "x_column = 'him_by_temp'  # Replace 'Column_X' with the name of your x-axis column\n",
    "y_column = 'Degree_of_diseas %'  # Replace 'Column_Y' with the name of your y-axis column\n",
    "\n",
    "plt.figure(figsize=(8, 6))  # Adjust the figure size as needed\n",
    "plt.scatter(df[x_column], df[y_column])  # Scatter plot for x and y columns\n",
    "plt.xlabel(x_column)\n",
    "plt.ylabel(y_column)\n",
    "plt.title(f'Plot of {y_column} against {x_column}')\n",
    "plt.grid(True)\n",
    "plt.show()\n"
   ]
  },
  {
   "cell_type": "code",
   "execution_count": 96,
   "id": "0b301e11",
   "metadata": {},
   "outputs": [
    {
     "name": "stdout",
     "output_type": "stream",
     "text": [
      "     Sum_of_humid  sum_of_temp  him_by_temp  Degree_of_diseas %\n",
      "0      869.000000        429.0         2.03                  55\n",
      "1      938.000000        470.0         2.00                   0\n",
      "2     1542.000000        379.0         4.07                  62\n",
      "3      852.000000        575.0         1.48                   0\n",
      "4     1503.000000        367.0         4.10                  70\n",
      "..            ...          ...          ...                 ...\n",
      "148   1537.453782        502.0         3.06                  56\n",
      "149   1543.563025        374.0         4.13                  64\n",
      "150   1549.672269        575.0         2.70                   0\n",
      "151   1555.781513        348.0         4.47                  72\n",
      "152   1561.890756        398.0         3.92                  75\n",
      "\n",
      "[153 rows x 4 columns]\n"
     ]
    }
   ],
   "source": [
    "# import numpy as np\n",
    "\n",
    "# # Assuming 'df' is your DataFrame\n",
    "# column_to_check = 'him_by_temp'  # Replace 'Column_X' with the first column to check\n",
    "# column_to_compare = 'sum_of_temp'  # Replace 'Column_Y' with the third column for comparison\n",
    "# column_to_modify = 'Degree_of_diseas %'  # Replace 'Column_Z' with the column to change\n",
    "\n",
    "# # Conditions based on different criteria\n",
    "# condition_1 = (df[column_to_check] > 4) & (df[column_to_check] <= 5)\n",
    "# condition_2 = df[column_to_check] > 3\n",
    "# condition_3 = (df[column_to_check] > 2) & (df[column_to_check] <= 3)\n",
    "# condition_4 = df[column_to_check] < 2\n",
    "\n",
    "# # For values between 2 and 3 in 'Column_X', apply conditions based on 'Column_Y'\n",
    "# df.loc[condition_3 & (df[column_to_compare] > 430), column_to_modify] = 0\n",
    "# df.loc[(condition_3) & (df[column_to_compare] < 430) & (df[column_to_compare] > 390), column_to_modify] = np.random.randint(50, 56, size=sum((condition_3) & (df[column_to_compare] < 430) & (df[column_to_compare] > 390)))\n",
    "# df.loc[(condition_3) & (df[column_to_compare] < 390), column_to_modify] = np.random.randint(53, 68, size=sum((condition_3) & (df[column_to_compare] < 390)))\n",
    "\n",
    "# # Other conditions remain the same as the previous example\n",
    "\n",
    "# # Display the modified DataFrame\n",
    "# print(df)\n"
   ]
  },
  {
   "cell_type": "code",
   "execution_count": 7,
   "id": "f1d5dd6d",
   "metadata": {},
   "outputs": [],
   "source": [
    "# import matplotlib.pyplot as plt\n",
    "\n",
    "# data = {\n",
    "#     'Sum_of_humid': [869, 938, 1542, 852, 1503, 1151, 1437, 841, 1568, 1255, 1119, 1254, 949, 1325, 1158],\n",
    "#     'sum_of_temp': [429, 470, 379, 575, 367, 502, 374, 575, 348, 398, 438, 469, 471, 433, 373],\n",
    "#     'him_by_temp': [2.02, 1.99, 4.06, 1.48, 4.10, 2.29, 3.84, 1.46, 4.51, 3.15, 2.55, 2.67, 2.01, 3.06, 3.10],\n",
    "#     'Degree_of_diseas %': [0, 0, 68, 0, 58, 53, 61, 0, 93, 73, 0, 0, 0, 0, 52]\n",
    "# }\n",
    "\n",
    "# # Extracting data\n",
    "# x = data['Sum_of_humid']\n",
    "# y = data['sum_of_temp']\n",
    "# disease_percentage = data['Degree_of_diseas %']\n",
    "\n",
    "# # Creating a scatter plot\n",
    "# plt.figure(figsize=(8, 6))\n",
    "# plt.scatter(x, y, s=disease_percentage, c=disease_percentage, cmap='RdYlGn', alpha=0.7, edgecolors='w', linewidths=1.5)\n",
    "\n",
    "# # Adding labels and title\n",
    "# plt.xlabel('Sum of Humidity')\n",
    "# plt.ylabel('Sum of Temperature')\n",
    "# plt.title('Relationship between Humidity, Temperature, and Disease Percentage')\n",
    "\n",
    "# # Adding a colorbar to represent disease percentage\n",
    "# plt.colorbar(label='Disease Percentage')\n",
    "\n",
    "# # Display the plot\n",
    "# plt.show()\n"
   ]
  },
  {
   "cell_type": "code",
   "execution_count": 8,
   "id": "5c2ec6f8",
   "metadata": {},
   "outputs": [],
   "source": [
    "import pandas as pd\n",
    "import numpy as np\n",
    "import matplotlib.pyplot as plt"
   ]
  },
  {
   "cell_type": "code",
   "execution_count": 9,
   "id": "aafa3189",
   "metadata": {},
   "outputs": [],
   "source": [
    "Croping = df"
   ]
  },
  {
   "cell_type": "code",
   "execution_count": 10,
   "id": "b7b6fa54",
   "metadata": {},
   "outputs": [
    {
     "data": {
      "text/plain": [
       "(16, 4)"
      ]
     },
     "execution_count": 10,
     "metadata": {},
     "output_type": "execute_result"
    }
   ],
   "source": [
    "Croping.shape"
   ]
  },
  {
   "cell_type": "code",
   "execution_count": 11,
   "id": "e0353b15",
   "metadata": {},
   "outputs": [
    {
     "data": {
      "text/html": [
       "<div>\n",
       "<style scoped>\n",
       "    .dataframe tbody tr th:only-of-type {\n",
       "        vertical-align: middle;\n",
       "    }\n",
       "\n",
       "    .dataframe tbody tr th {\n",
       "        vertical-align: top;\n",
       "    }\n",
       "\n",
       "    .dataframe thead th {\n",
       "        text-align: right;\n",
       "    }\n",
       "</style>\n",
       "<table border=\"1\" class=\"dataframe\">\n",
       "  <thead>\n",
       "    <tr style=\"text-align: right;\">\n",
       "      <th></th>\n",
       "      <th>Sum_of_humid</th>\n",
       "      <th>sum_of_temp</th>\n",
       "      <th>him_by_temp</th>\n",
       "      <th>Degree_of_diseas %</th>\n",
       "    </tr>\n",
       "  </thead>\n",
       "  <tbody>\n",
       "    <tr>\n",
       "      <th>0</th>\n",
       "      <td>869.0</td>\n",
       "      <td>429.0</td>\n",
       "      <td>2.02</td>\n",
       "      <td>0.0</td>\n",
       "    </tr>\n",
       "    <tr>\n",
       "      <th>1</th>\n",
       "      <td>938.0</td>\n",
       "      <td>470.0</td>\n",
       "      <td>1.99</td>\n",
       "      <td>0.0</td>\n",
       "    </tr>\n",
       "    <tr>\n",
       "      <th>2</th>\n",
       "      <td>1542.0</td>\n",
       "      <td>379.0</td>\n",
       "      <td>4.06</td>\n",
       "      <td>68.0</td>\n",
       "    </tr>\n",
       "    <tr>\n",
       "      <th>3</th>\n",
       "      <td>852.0</td>\n",
       "      <td>575.0</td>\n",
       "      <td>1.48</td>\n",
       "      <td>0.0</td>\n",
       "    </tr>\n",
       "    <tr>\n",
       "      <th>4</th>\n",
       "      <td>1503.0</td>\n",
       "      <td>367.0</td>\n",
       "      <td>4.10</td>\n",
       "      <td>58.0</td>\n",
       "    </tr>\n",
       "  </tbody>\n",
       "</table>\n",
       "</div>"
      ],
      "text/plain": [
       "   Sum_of_humid  sum_of_temp  him_by_temp  Degree_of_diseas %\n",
       "0         869.0        429.0         2.02                 0.0\n",
       "1         938.0        470.0         1.99                 0.0\n",
       "2        1542.0        379.0         4.06                68.0\n",
       "3         852.0        575.0         1.48                 0.0\n",
       "4        1503.0        367.0         4.10                58.0"
      ]
     },
     "execution_count": 11,
     "metadata": {},
     "output_type": "execute_result"
    }
   ],
   "source": [
    "Croping.head()"
   ]
  },
  {
   "cell_type": "code",
   "execution_count": 12,
   "id": "c5d70aa8",
   "metadata": {},
   "outputs": [
    {
     "name": "stdout",
     "output_type": "stream",
     "text": [
      "<class 'pandas.core.frame.DataFrame'>\n",
      "Int64Index: 16 entries, 0 to 34\n",
      "Data columns (total 4 columns):\n",
      " #   Column              Non-Null Count  Dtype  \n",
      "---  ------              --------------  -----  \n",
      " 0   Sum_of_humid        15 non-null     float64\n",
      " 1   sum_of_temp         15 non-null     float64\n",
      " 2   him_by_temp         15 non-null     float64\n",
      " 3   Degree_of_diseas %  16 non-null     float64\n",
      "dtypes: float64(4)\n",
      "memory usage: 1.2 KB\n"
     ]
    }
   ],
   "source": [
    "Croping.info()"
   ]
  },
  {
   "cell_type": "code",
   "execution_count": 13,
   "id": "bb27bbd1",
   "metadata": {},
   "outputs": [
    {
     "name": "stdout",
     "output_type": "stream",
     "text": [
      "<class 'pandas.core.frame.DataFrame'>\n",
      "Int64Index: 16 entries, 0 to 34\n",
      "Data columns (total 4 columns):\n",
      " #   Column              Non-Null Count  Dtype  \n",
      "---  ------              --------------  -----  \n",
      " 0   Sum_of_humid        15 non-null     float64\n",
      " 1   sum_of_temp         15 non-null     float64\n",
      " 2   him_by_temp         15 non-null     float64\n",
      " 3   Degree_of_diseas %  16 non-null     float64\n",
      "dtypes: float64(4)\n",
      "memory usage: 1.2 KB\n"
     ]
    }
   ],
   "source": [
    "Croping.info()"
   ]
  },
  {
   "cell_type": "code",
   "execution_count": 14,
   "id": "9b3dec11",
   "metadata": {},
   "outputs": [
    {
     "data": {
      "text/html": [
       "<div>\n",
       "<style scoped>\n",
       "    .dataframe tbody tr th:only-of-type {\n",
       "        vertical-align: middle;\n",
       "    }\n",
       "\n",
       "    .dataframe tbody tr th {\n",
       "        vertical-align: top;\n",
       "    }\n",
       "\n",
       "    .dataframe thead th {\n",
       "        text-align: right;\n",
       "    }\n",
       "</style>\n",
       "<table border=\"1\" class=\"dataframe\">\n",
       "  <thead>\n",
       "    <tr style=\"text-align: right;\">\n",
       "      <th></th>\n",
       "      <th>Sum_of_humid</th>\n",
       "      <th>sum_of_temp</th>\n",
       "      <th>him_by_temp</th>\n",
       "      <th>Degree_of_diseas %</th>\n",
       "    </tr>\n",
       "  </thead>\n",
       "  <tbody>\n",
       "    <tr>\n",
       "      <th>count</th>\n",
       "      <td>15.000000</td>\n",
       "      <td>15.000000</td>\n",
       "      <td>15.000000</td>\n",
       "      <td>16.000000</td>\n",
       "    </tr>\n",
       "    <tr>\n",
       "      <th>mean</th>\n",
       "      <td>1184.066667</td>\n",
       "      <td>440.066667</td>\n",
       "      <td>2.819333</td>\n",
       "      <td>28.625000</td>\n",
       "    </tr>\n",
       "    <tr>\n",
       "      <th>std</th>\n",
       "      <td>256.353681</td>\n",
       "      <td>71.360720</td>\n",
       "      <td>0.975555</td>\n",
       "      <td>34.727271</td>\n",
       "    </tr>\n",
       "    <tr>\n",
       "      <th>min</th>\n",
       "      <td>841.000000</td>\n",
       "      <td>348.000000</td>\n",
       "      <td>1.460000</td>\n",
       "      <td>0.000000</td>\n",
       "    </tr>\n",
       "    <tr>\n",
       "      <th>25%</th>\n",
       "      <td>943.500000</td>\n",
       "      <td>376.500000</td>\n",
       "      <td>2.015000</td>\n",
       "      <td>0.000000</td>\n",
       "    </tr>\n",
       "    <tr>\n",
       "      <th>50%</th>\n",
       "      <td>1158.000000</td>\n",
       "      <td>433.000000</td>\n",
       "      <td>2.670000</td>\n",
       "      <td>0.000000</td>\n",
       "    </tr>\n",
       "    <tr>\n",
       "      <th>75%</th>\n",
       "      <td>1381.000000</td>\n",
       "      <td>470.500000</td>\n",
       "      <td>3.495000</td>\n",
       "      <td>58.750000</td>\n",
       "    </tr>\n",
       "    <tr>\n",
       "      <th>max</th>\n",
       "      <td>1568.000000</td>\n",
       "      <td>575.000000</td>\n",
       "      <td>4.510000</td>\n",
       "      <td>93.000000</td>\n",
       "    </tr>\n",
       "  </tbody>\n",
       "</table>\n",
       "</div>"
      ],
      "text/plain": [
       "       Sum_of_humid  sum_of_temp  him_by_temp  Degree_of_diseas %\n",
       "count     15.000000    15.000000    15.000000           16.000000\n",
       "mean    1184.066667   440.066667     2.819333           28.625000\n",
       "std      256.353681    71.360720     0.975555           34.727271\n",
       "min      841.000000   348.000000     1.460000            0.000000\n",
       "25%      943.500000   376.500000     2.015000            0.000000\n",
       "50%     1158.000000   433.000000     2.670000            0.000000\n",
       "75%     1381.000000   470.500000     3.495000           58.750000\n",
       "max     1568.000000   575.000000     4.510000           93.000000"
      ]
     },
     "execution_count": 14,
     "metadata": {},
     "output_type": "execute_result"
    }
   ],
   "source": [
    "Croping.describe()"
   ]
  },
  {
   "cell_type": "code",
   "execution_count": 15,
   "id": "30e32dcd",
   "metadata": {},
   "outputs": [
    {
     "data": {
      "text/plain": [
       "array([[<Axes: title={'center': 'Sum_of_humid'}>,\n",
       "        <Axes: title={'center': 'sum_of_temp'}>],\n",
       "       [<Axes: title={'center': 'him_by_temp'}>,\n",
       "        <Axes: title={'center': 'Degree_of_diseas %'}>]], dtype=object)"
      ]
     },
     "execution_count": 15,
     "metadata": {},
     "output_type": "execute_result"
    },
    {
     "data": {
      "image/png": "[encoded data removed]",
      "text/plain": [
       "<Figure size 1500x1000 with 4 Axes>"
      ]
     },
     "metadata": {},
     "output_type": "display_data"
    }
   ],
   "source": [
    "Croping.hist(bins=50,figsize=(15,10))"
   ]
  },
  {
   "cell_type": "code",
   "execution_count": 16,
   "id": "feafae29",
   "metadata": {},
   "outputs": [
    {
     "data": {
      "text/html": [
       "<div>\n",
       "<style scoped>\n",
       "    .dataframe tbody tr th:only-of-type {\n",
       "        vertical-align: middle;\n",
       "    }\n",
       "\n",
       "    .dataframe tbody tr th {\n",
       "        vertical-align: top;\n",
       "    }\n",
       "\n",
       "    .dataframe thead th {\n",
       "        text-align: right;\n",
       "    }\n",
       "</style>\n",
       "<table border=\"1\" class=\"dataframe\">\n",
       "  <thead>\n",
       "    <tr style=\"text-align: right;\">\n",
       "      <th></th>\n",
       "      <th>Sum_of_humid</th>\n",
       "      <th>sum_of_temp</th>\n",
       "      <th>him_by_temp</th>\n",
       "      <th>Degree_of_diseas %</th>\n",
       "    </tr>\n",
       "  </thead>\n",
       "  <tbody>\n",
       "    <tr>\n",
       "      <th>Sum_of_humid</th>\n",
       "      <td>1.000000</td>\n",
       "      <td>-0.787119</td>\n",
       "      <td>0.968715</td>\n",
       "      <td>0.763127</td>\n",
       "    </tr>\n",
       "    <tr>\n",
       "      <th>sum_of_temp</th>\n",
       "      <td>-0.787119</td>\n",
       "      <td>1.000000</td>\n",
       "      <td>-0.891170</td>\n",
       "      <td>-0.692434</td>\n",
       "    </tr>\n",
       "    <tr>\n",
       "      <th>him_by_temp</th>\n",
       "      <td>0.968715</td>\n",
       "      <td>-0.891170</td>\n",
       "      <td>1.000000</td>\n",
       "      <td>0.811830</td>\n",
       "    </tr>\n",
       "    <tr>\n",
       "      <th>Degree_of_diseas %</th>\n",
       "      <td>0.763127</td>\n",
       "      <td>-0.692434</td>\n",
       "      <td>0.811830</td>\n",
       "      <td>1.000000</td>\n",
       "    </tr>\n",
       "  </tbody>\n",
       "</table>\n",
       "</div>"
      ],
      "text/plain": [
       "                    Sum_of_humid  sum_of_temp  him_by_temp  Degree_of_diseas %\n",
       "Sum_of_humid            1.000000    -0.787119     0.968715            0.763127\n",
       "sum_of_temp            -0.787119     1.000000    -0.891170           -0.692434\n",
       "him_by_temp             0.968715    -0.891170     1.000000            0.811830\n",
       "Degree_of_diseas %      0.763127    -0.692434     0.811830            1.000000"
      ]
     },
     "execution_count": 16,
     "metadata": {},
     "output_type": "execute_result"
    }
   ],
   "source": [
    "Croping.corr()"
   ]
  },
  {
   "cell_type": "code",
   "execution_count": 24,
   "id": "dd3106db",
   "metadata": {},
   "outputs": [
    {
     "data": {
      "image/png": "[encoded data removed]",
      "text/plain": [
       "<Figure size 800x600 with 1 Axes>"
      ]
     },
     "metadata": {},
     "output_type": "display_data"
    }
   ],
   "source": [
    "import matplotlib.pyplot as plt\n",
    "\n",
    "# Assuming 'df' is your DataFrame\n",
    "x_column = 'sum_of_temp'  # Replace 'Column_X' with the name of your x-axis column\n",
    "y_column = 'Degree_of_diseas %'  # Replace 'Column_Y' with the name of your y-axis column\n",
    "\n",
    "plt.figure(figsize=(8, 6))  # Adjust the figure size as needed\n",
    "plt.scatter(df[x_column], df[y_column])  # Scatter plot for x and y columns\n",
    "plt.xlabel(x_column)\n",
    "plt.ylabel(y_column)\n",
    "plt.title(f'Plot of {y_column} against {x_column}')\n",
    "plt.grid(True)\n",
    "plt.show()\n"
   ]
  },
  {
   "cell_type": "code",
   "execution_count": 21,
   "id": "9db85a68",
   "metadata": {},
   "outputs": [
    {
     "data": {
      "image/png": "[encoded data removed]",
      "text/plain": [
       "<Figure size 800x600 with 1 Axes>"
      ]
     },
     "metadata": {},
     "output_type": "display_data"
    }
   ],
   "source": [
    "import matplotlib.pyplot as plt\n",
    "\n",
    "# Assuming 'df' is your DataFrame\n",
    "x_column = 'Sum_of_humid'  # Replace 'Column_X' with the name of your x-axis column\n",
    "y_column = 'Degree_of_diseas %'  # Replace 'Column_Y' with the name of your y-axis column\n",
    "\n",
    "plt.figure(figsize=(8, 6))  # Adjust the figure size as needed\n",
    "plt.scatter(df[x_column], df[y_column])  # Scatter plot for x and y columns\n",
    "plt.xlabel(x_column)\n",
    "plt.ylabel(y_column)\n",
    "plt.title(f'Plot of {y_column} against {x_column}')\n",
    "plt.grid(True)\n",
    "plt.show()\n"
   ]
  },
  {
   "cell_type": "code",
   "execution_count": 20,
   "id": "98594807",
   "metadata": {},
   "outputs": [
    {
     "data": {
      "image/png": "[encoded data removed]",
      "text/plain": [
       "<Figure size 800x600 with 1 Axes>"
      ]
     },
     "metadata": {},
     "output_type": "display_data"
    }
   ],
   "source": [
    "import matplotlib.pyplot as plt\n",
    "\n",
    "# Assuming 'df' is your DataFrame\n",
    "x_column = 'him_by_temp'  # Replace 'Column_X' with the name of your x-axis column\n",
    "y_column = 'sum_of_temp'  # Replace 'Column_Y' with the name of your y-axis column\n",
    "\n",
    "plt.figure(figsize=(8, 6))  # Adjust the figure size as needed\n",
    "plt.scatter(df[x_column], df[y_column])  # Scatter plot for x and y columns\n",
    "plt.xlabel(x_column)\n",
    "plt.ylabel(y_column)\n",
    "plt.title(f'Plot of {y_column} against {x_column}')\n",
    "plt.grid(True)\n",
    "plt.show()\n"
   ]
  },
  {
   "cell_type": "code",
   "execution_count": 17,
   "id": "d6666311",
   "metadata": {},
   "outputs": [
    {
     "data": {
      "text/plain": [
       "Degree_of_diseas %    1.000000\n",
       "him_by_temp           0.811830\n",
       "Sum_of_humid          0.763127\n",
       "sum_of_temp          -0.692434\n",
       "Name: Degree_of_diseas %, dtype: float64"
      ]
     },
     "execution_count": 17,
     "metadata": {},
     "output_type": "execute_result"
    }
   ],
   "source": [
    "corr_matrix=Croping.corr()\n",
    "corr_matrix[\"Degree_of_diseas %\"].sort_values(ascending=False)"
   ]
  },
  {
   "cell_type": "code",
   "execution_count": 23,
   "id": "09efa14c",
   "metadata": {},
   "outputs": [
    {
     "data": {
      "image/png": "[encoded data removed]",
      "text/plain": [
       "<Figure size 800x600 with 1 Axes>"
      ]
     },
     "metadata": {},
     "output_type": "display_data"
    }
   ],
   "source": [
    "import matplotlib.pyplot as plt\n",
    "\n",
    "# Assuming 'df' is your DataFrame\n",
    "x_column = 'sum_of_temp'  # Replace 'Column_X' with the name of your x-axis column\n",
    "y_column = 'Sum_of_humid'  # Replace 'Column_Y' with the name of your y-axis column\n",
    "\n",
    "plt.figure(figsize=(8, 6))  # Adjust the figure size as needed\n",
    "plt.scatter(df[x_column], df[y_column])  # Scatter plot for x and y columns\n",
    "plt.xlabel(x_column)\n",
    "plt.ylabel(y_column)\n",
    "plt.title(f'Plot of {y_column} against {x_column}')\n",
    "plt.grid(True)\n",
    "plt.show()\n"
   ]
  },
  {
   "cell_type": "code",
   "execution_count": null,
   "id": "78e75b76",
   "metadata": {},
   "outputs": [],
   "source": []
  },
  {
   "cell_type": "code",
   "execution_count": 18,
   "id": "9a65221b",
   "metadata": {},
   "outputs": [],
   "source": [
    "X = Croping.drop(['Degree_of_diseas %', 'him_by_temp'], axis=1)\n",
    "y = Croping['Degree_of_diseas %']  # Selecting the 'Degree_of_diseas %' column\n"
   ]
  },
  {
   "cell_type": "code",
   "execution_count": 35,
   "id": "fc96f0e0",
   "metadata": {},
   "outputs": [],
   "source": [
    "from sklearn.model_selection import train_test_split\n",
    "X_train, X_test, y_train, y_test = train_test_split(X,y, \n",
    "                                                    test_size = 0.2, \n",
    "                                                    random_state=1984)"
   ]
  },
  {
   "cell_type": "code",
   "execution_count": 19,
   "id": "65775b62",
   "metadata": {},
   "outputs": [],
   "source": [
    "# import tensorflow as tf\n",
    "# from tensorflow.keras.models import Sequential\n",
    "# from tensorflow.keras.layers import Dense\n",
    "\n",
    "# # Assuming X_train and y_train are your training data\n",
    "# # X_train should be a NumPy array or Pandas DataFrame with features\n",
    "# # y_train should be a NumPy array or Pandas Series with the target variable\n",
    "\n",
    "# # Create a neural network model\n",
    "# model = Sequential()\n",
    "\n",
    "# # Add a dense layer with ReLU activation (adjust the number of units as needed)\n",
    "# model.add(Dense(32, input_shape=(X_train.shape[1],), activation='relu'))\n",
    "# # Add another dense layer (you can add more layers as necessary)\n",
    "# model.add(Dense(16, activation='relu'))\n",
    "# # Output layer with one unit for regression\n",
    "# model.add(Dense(1))\n",
    "\n",
    "# # Compile the model with an optimizer and a loss function for regression (e.g., mean squared error)\n",
    "# model.compile(optimizer='adam', loss='mean_squared_error')\n",
    "\n",
    "# # Train the model\n",
    "# model.fit(X_train, y_train, epochs=50, batch_size=32, validation_split=0.2)  # Adjust parameters as needed\n",
    "\n",
    "# # Evaluate the model\n",
    "# loss = model.evaluate(X_test, y_test)  # Assuming you have test data X_test, y_test\n",
    "\n",
    "# # Predict using the trained model\n",
    "# predictions = model.predict(X_test)\n"
   ]
  },
  {
   "cell_type": "code",
   "execution_count": null,
   "id": "51e41716",
   "metadata": {},
   "outputs": [],
   "source": []
  },
  {
   "cell_type": "code",
   "execution_count": null,
   "id": "38cfbd9a",
   "metadata": {},
   "outputs": [],
   "source": []
  },
  {
   "cell_type": "code",
   "execution_count": 36,
   "id": "fe0b8831",
   "metadata": {},
   "outputs": [
    {
     "data": {
      "text/html": [
       "<style>#sk-container-id-2 {color: black;}#sk-container-id-2 pre{padding: 0;}#sk-container-id-2 div.sk-toggleable {background-color: white;}#sk-container-id-2 label.sk-toggleable__label {cursor: pointer;display: block;width: 100%;margin-bottom: 0;padding: 0.3em;box-sizing: border-box;text-align: center;}#sk-container-id-2 label.sk-toggleable__label-arrow:before {content: \"▸\";float: left;margin-right: 0.25em;color: #696969;}#sk-container-id-2 label.sk-toggleable__label-arrow:hover:before {color: black;}#sk-container-id-2 div.sk-estimator:hover label.sk-toggleable__label-arrow:before {color: black;}#sk-container-id-2 div.sk-toggleable__content {max-height: 0;max-width: 0;overflow: hidden;text-align: left;background-color: #f0f8ff;}#sk-container-id-2 div.sk-toggleable__content pre {margin: 0.2em;color: black;border-radius: 0.25em;background-color: #f0f8ff;}#sk-container-id-2 input.sk-toggleable__control:checked~div.sk-toggleable__content {max-height: 200px;max-width: 100%;overflow: auto;}#sk-container-id-2 input.sk-toggleable__control:checked~label.sk-toggleable__label-arrow:before {content: \"▾\";}#sk-container-id-2 div.sk-estimator input.sk-toggleable__control:checked~label.sk-toggleable__label {background-color: #d4ebff;}#sk-container-id-2 div.sk-label input.sk-toggleable__control:checked~label.sk-toggleable__label {background-color: #d4ebff;}#sk-container-id-2 input.sk-hidden--visually {border: 0;clip: rect(1px 1px 1px 1px);clip: rect(1px, 1px, 1px, 1px);height: 1px;margin: -1px;overflow: hidden;padding: 0;position: absolute;width: 1px;}#sk-container-id-2 div.sk-estimator {font-family: monospace;background-color: #f0f8ff;border: 1px dotted black;border-radius: 0.25em;box-sizing: border-box;margin-bottom: 0.5em;}#sk-container-id-2 div.sk-estimator:hover {background-color: #d4ebff;}#sk-container-id-2 div.sk-parallel-item::after {content: \"\";width: 100%;border-bottom: 1px solid gray;flex-grow: 1;}#sk-container-id-2 div.sk-label:hover label.sk-toggleable__label {background-color: #d4ebff;}#sk-container-id-2 div.sk-serial::before {content: \"\";position: absolute;border-left: 1px solid gray;box-sizing: border-box;top: 0;bottom: 0;left: 50%;z-index: 0;}#sk-container-id-2 div.sk-serial {display: flex;flex-direction: column;align-items: center;background-color: white;padding-right: 0.2em;padding-left: 0.2em;position: relative;}#sk-container-id-2 div.sk-item {position: relative;z-index: 1;}#sk-container-id-2 div.sk-parallel {display: flex;align-items: stretch;justify-content: center;background-color: white;position: relative;}#sk-container-id-2 div.sk-item::before, #sk-container-id-2 div.sk-parallel-item::before {content: \"\";position: absolute;border-left: 1px solid gray;box-sizing: border-box;top: 0;bottom: 0;left: 50%;z-index: -1;}#sk-container-id-2 div.sk-parallel-item {display: flex;flex-direction: column;z-index: 1;position: relative;background-color: white;}#sk-container-id-2 div.sk-parallel-item:first-child::after {align-self: flex-end;width: 50%;}#sk-container-id-2 div.sk-parallel-item:last-child::after {align-self: flex-start;width: 50%;}#sk-container-id-2 div.sk-parallel-item:only-child::after {width: 0;}#sk-container-id-2 div.sk-dashed-wrapped {border: 1px dashed gray;margin: 0 0.4em 0.5em 0.4em;box-sizing: border-box;padding-bottom: 0.4em;background-color: white;}#sk-container-id-2 div.sk-label label {font-family: monospace;font-weight: bold;display: inline-block;line-height: 1.2em;}#sk-container-id-2 div.sk-label-container {text-align: center;}#sk-container-id-2 div.sk-container {/* jupyter's `normalize.less` sets `[hidden] { display: none; }` but bootstrap.min.css set `[hidden] { display: none !important; }` so we also need the `!important` here to be able to override the default hidden behavior on the sphinx rendered scikit-learn.org. See: https://github.com/scikit-learn/scikit-learn/issues/21755 */display: inline-block !important;position: relative;}#sk-container-id-2 div.sk-text-repr-fallback {display: none;}</style><div id=\"sk-container-id-2\" class=\"sk-top-container\"><div class=\"sk-text-repr-fallback\"><pre>LinearRegression()</pre><b>In a Jupyter environment, please rerun this cell to show the HTML representation or trust the notebook. <br />On GitHub, the HTML representation is unable to render, please try loading this page with nbviewer.org.</b></div><div class=\"sk-container\" hidden><div class=\"sk-item\"><div class=\"sk-estimator sk-toggleable\"><input class=\"sk-toggleable__control sk-hidden--visually\" id=\"sk-estimator-id-2\" type=\"checkbox\" checked><label for=\"sk-estimator-id-2\" class=\"sk-toggleable__label sk-toggleable__label-arrow\">LinearRegression</label><div class=\"sk-toggleable__content\"><pre>LinearRegression()</pre></div></div></div></div></div>"
      ],
      "text/plain": [
       "LinearRegression()"
      ]
     },
     "execution_count": 36,
     "metadata": {},
     "output_type": "execute_result"
    }
   ],
   "source": [
    "from sklearn.linear_model import LinearRegression \n",
    "OLS = LinearRegression()\n",
    "OLS.fit(X_train, y_train)"
   ]
  },
  {
   "cell_type": "code",
   "execution_count": 37,
   "id": "48fef348",
   "metadata": {},
   "outputs": [
    {
     "name": "stdout",
     "output_type": "stream",
     "text": [
      " the intercept is -89.0183737722158\n",
      " the coeffiients are [ 0.11186418 -0.02297505]\n",
      " the R_sqaured value is 0.7121849609551945\n"
     ]
    }
   ],
   "source": [
    "#display the intercept and coefficient\n",
    "print(\" the intercept is \" +  str(OLS.intercept_))\n",
    "print(\" the coeffiients are \" +  str(OLS.coef_))\n",
    "print(\" the R_sqaured value is \" +  str(OLS.score(X_train, y_train)))"
   ]
  },
  {
   "cell_type": "code",
   "execution_count": 38,
   "id": "b6b0e4dd",
   "metadata": {},
   "outputs": [
    {
     "data": {
      "text/html": [
       "<div>\n",
       "<style scoped>\n",
       "    .dataframe tbody tr th:only-of-type {\n",
       "        vertical-align: middle;\n",
       "    }\n",
       "\n",
       "    .dataframe tbody tr th {\n",
       "        vertical-align: top;\n",
       "    }\n",
       "\n",
       "    .dataframe thead th {\n",
       "        text-align: right;\n",
       "    }\n",
       "</style>\n",
       "<table border=\"1\" class=\"dataframe\">\n",
       "  <thead>\n",
       "    <tr style=\"text-align: right;\">\n",
       "      <th></th>\n",
       "      <th>PREDICTIONS</th>\n",
       "      <th>ACTUAL VALUES</th>\n",
       "      <th>error</th>\n",
       "    </tr>\n",
       "  </thead>\n",
       "  <tbody>\n",
       "    <tr>\n",
       "      <th>13</th>\n",
       "      <td>49.253466</td>\n",
       "      <td>0</td>\n",
       "      <td>-49.253466</td>\n",
       "    </tr>\n",
       "    <tr>\n",
       "      <th>4</th>\n",
       "      <td>70.681642</td>\n",
       "      <td>58</td>\n",
       "      <td>-12.681642</td>\n",
       "    </tr>\n",
       "    <tr>\n",
       "      <th>14</th>\n",
       "      <td>31.950651</td>\n",
       "      <td>52</td>\n",
       "      <td>20.049349</td>\n",
       "    </tr>\n",
       "  </tbody>\n",
       "</table>\n",
       "</div>"
      ],
      "text/plain": [
       "    PREDICTIONS  ACTUAL VALUES      error\n",
       "13    49.253466              0 -49.253466\n",
       "4     70.681642             58 -12.681642\n",
       "14    31.950651             52  20.049349"
      ]
     },
     "execution_count": 38,
     "metadata": {},
     "output_type": "execute_result"
    }
   ],
   "source": [
    "#predicting with OLS\n",
    "y_pred=OLS.predict(X_test)\n",
    "performance = pd.DataFrame({'PREDICTIONS': y_pred, 'ACTUAL VALUES':y_test})\n",
    "performance.head()\n",
    "performance['error']=performance['ACTUAL VALUES']-performance['PREDICTIONS']\n",
    "performance.head()"
   ]
  },
  {
   "cell_type": "code",
   "execution_count": 39,
   "id": "92b1ae7e",
   "metadata": {},
   "outputs": [
    {
     "data": {
      "text/html": [
       "<div>\n",
       "<style scoped>\n",
       "    .dataframe tbody tr th:only-of-type {\n",
       "        vertical-align: middle;\n",
       "    }\n",
       "\n",
       "    .dataframe tbody tr th {\n",
       "        vertical-align: top;\n",
       "    }\n",
       "\n",
       "    .dataframe thead th {\n",
       "        text-align: right;\n",
       "    }\n",
       "</style>\n",
       "<table border=\"1\" class=\"dataframe\">\n",
       "  <thead>\n",
       "    <tr style=\"text-align: right;\">\n",
       "      <th></th>\n",
       "      <th>index</th>\n",
       "      <th>PREDICTIONS</th>\n",
       "      <th>ACTUAL VALUES</th>\n",
       "      <th>error</th>\n",
       "    </tr>\n",
       "  </thead>\n",
       "  <tbody>\n",
       "    <tr>\n",
       "      <th>0</th>\n",
       "      <td>0</td>\n",
       "      <td>49.253466</td>\n",
       "      <td>0</td>\n",
       "      <td>-49.253466</td>\n",
       "    </tr>\n",
       "    <tr>\n",
       "      <th>1</th>\n",
       "      <td>1</td>\n",
       "      <td>70.681642</td>\n",
       "      <td>58</td>\n",
       "      <td>-12.681642</td>\n",
       "    </tr>\n",
       "    <tr>\n",
       "      <th>2</th>\n",
       "      <td>2</td>\n",
       "      <td>31.950651</td>\n",
       "      <td>52</td>\n",
       "      <td>20.049349</td>\n",
       "    </tr>\n",
       "  </tbody>\n",
       "</table>\n",
       "</div>"
      ],
      "text/plain": [
       "   index  PREDICTIONS  ACTUAL VALUES      error\n",
       "0      0    49.253466              0 -49.253466\n",
       "1      1    70.681642             58 -12.681642\n",
       "2      2    31.950651             52  20.049349"
      ]
     },
     "execution_count": 39,
     "metadata": {},
     "output_type": "execute_result"
    }
   ],
   "source": [
    "#preparing data for plotting\n",
    "performance.reset_index(drop=True, inplace=True) #inplace turns into a column\n",
    "performance.reset_index(inplace=True)\n",
    "performance.head()"
   ]
  },
  {
   "cell_type": "code",
   "execution_count": 40,
   "id": "e171b2e9",
   "metadata": {},
   "outputs": [
    {
     "data": {
      "image/png": "[encoded data removed]",
      "text/plain": [
       "<Figure size 1000x500 with 1 Axes>"
      ]
     },
     "metadata": {},
     "output_type": "display_data"
    }
   ],
   "source": [
    "#plot the residuals\n",
    "fig = plt.figure(figsize=(10,5))\n",
    "plt.bar('index', 'error', data=performance[:50], color='black', width=0.3)\n",
    "plt.ylabel('residuals')\n",
    "plt.xlabel('observations')\n",
    "plt.show()"
   ]
  },
  {
   "cell_type": "code",
   "execution_count": 41,
   "id": "23272419",
   "metadata": {},
   "outputs": [
    {
     "data": {
      "text/html": [
       "<div>\n",
       "<style scoped>\n",
       "    .dataframe tbody tr th:only-of-type {\n",
       "        vertical-align: middle;\n",
       "    }\n",
       "\n",
       "    .dataframe tbody tr th {\n",
       "        vertical-align: top;\n",
       "    }\n",
       "\n",
       "    .dataframe thead th {\n",
       "        text-align: right;\n",
       "    }\n",
       "</style>\n",
       "<table border=\"1\" class=\"dataframe\">\n",
       "  <thead>\n",
       "    <tr style=\"text-align: right;\">\n",
       "      <th></th>\n",
       "      <th>const</th>\n",
       "      <th>Sum_of_humid</th>\n",
       "      <th>sum_of_temp</th>\n",
       "    </tr>\n",
       "  </thead>\n",
       "  <tbody>\n",
       "    <tr>\n",
       "      <th>10</th>\n",
       "      <td>1.0</td>\n",
       "      <td>1119</td>\n",
       "      <td>438</td>\n",
       "    </tr>\n",
       "    <tr>\n",
       "      <th>0</th>\n",
       "      <td>1.0</td>\n",
       "      <td>869</td>\n",
       "      <td>429</td>\n",
       "    </tr>\n",
       "    <tr>\n",
       "      <th>7</th>\n",
       "      <td>1.0</td>\n",
       "      <td>841</td>\n",
       "      <td>575</td>\n",
       "    </tr>\n",
       "    <tr>\n",
       "      <th>1</th>\n",
       "      <td>1.0</td>\n",
       "      <td>938</td>\n",
       "      <td>470</td>\n",
       "    </tr>\n",
       "    <tr>\n",
       "      <th>2</th>\n",
       "      <td>1.0</td>\n",
       "      <td>1542</td>\n",
       "      <td>379</td>\n",
       "    </tr>\n",
       "  </tbody>\n",
       "</table>\n",
       "</div>"
      ],
      "text/plain": [
       "    const  Sum_of_humid  sum_of_temp\n",
       "10    1.0          1119          438\n",
       "0     1.0           869          429\n",
       "7     1.0           841          575\n",
       "1     1.0           938          470\n",
       "2     1.0          1542          379"
      ]
     },
     "execution_count": 41,
     "metadata": {},
     "output_type": "execute_result"
    }
   ],
   "source": [
    "import statsmodels.api as sm\n",
    "X_train = sm.add_constant(X_train)\n",
    "X_train.head()"
   ]
  },
  {
   "cell_type": "code",
   "execution_count": 42,
   "id": "faf42bc8",
   "metadata": {},
   "outputs": [
    {
     "name": "stderr",
     "output_type": "stream",
     "text": [
      "/home/atamuratov_e/anaconda3/lib/python3.11/site-packages/scipy/stats/_stats_py.py:1736: UserWarning: kurtosistest only valid for n>=20 ... continuing anyway, n=12\n",
      "  warnings.warn(\"kurtosistest only valid for n>=20 ... continuing \"\n"
     ]
    },
    {
     "data": {
      "text/html": [
       "<table class=\"simpletable\">\n",
       "<caption>OLS Regression Results</caption>\n",
       "<tr>\n",
       "  <th>Dep. Variable:</th>    <td>Degree_of_diseas %</td> <th>  R-squared:         </th> <td>   0.712</td>\n",
       "</tr>\n",
       "<tr>\n",
       "  <th>Model:</th>                    <td>OLS</td>        <th>  Adj. R-squared:    </th> <td>   0.648</td>\n",
       "</tr>\n",
       "<tr>\n",
       "  <th>Method:</th>              <td>Least Squares</td>   <th>  F-statistic:       </th> <td>   11.14</td>\n",
       "</tr>\n",
       "<tr>\n",
       "  <th>Date:</th>              <td>Sat, 11 Nov 2023</td>  <th>  Prob (F-statistic):</th>  <td>0.00368</td>\n",
       "</tr>\n",
       "<tr>\n",
       "  <th>Time:</th>                  <td>17:43:16</td>      <th>  Log-Likelihood:    </th> <td> -52.356</td>\n",
       "</tr>\n",
       "<tr>\n",
       "  <th>No. Observations:</th>       <td>    12</td>       <th>  AIC:               </th> <td>   110.7</td>\n",
       "</tr>\n",
       "<tr>\n",
       "  <th>Df Residuals:</th>           <td>     9</td>       <th>  BIC:               </th> <td>   112.2</td>\n",
       "</tr>\n",
       "<tr>\n",
       "  <th>Df Model:</th>               <td>     2</td>       <th>                     </th>     <td> </td>   \n",
       "</tr>\n",
       "<tr>\n",
       "  <th>Covariance Type:</th>       <td>nonrobust</td>     <th>                     </th>     <td> </td>   \n",
       "</tr>\n",
       "</table>\n",
       "<table class=\"simpletable\">\n",
       "<tr>\n",
       "        <td></td>          <th>coef</th>     <th>std err</th>      <th>t</th>      <th>P>|t|</th>  <th>[0.025</th>    <th>0.975]</th>  \n",
       "</tr>\n",
       "<tr>\n",
       "  <th>const</th>        <td>  -89.0184</td> <td>  110.906</td> <td>   -0.803</td> <td> 0.443</td> <td> -339.905</td> <td>  161.868</td>\n",
       "</tr>\n",
       "<tr>\n",
       "  <th>Sum_of_humid</th> <td>    0.1119</td> <td>    0.042</td> <td>    2.679</td> <td> 0.025</td> <td>    0.017</td> <td>    0.206</td>\n",
       "</tr>\n",
       "<tr>\n",
       "  <th>sum_of_temp</th>  <td>   -0.0230</td> <td>    0.151</td> <td>   -0.152</td> <td> 0.883</td> <td>   -0.365</td> <td>    0.319</td>\n",
       "</tr>\n",
       "</table>\n",
       "<table class=\"simpletable\">\n",
       "<tr>\n",
       "  <th>Omnibus:</th>       <td> 1.089</td> <th>  Durbin-Watson:     </th> <td>   2.080</td>\n",
       "</tr>\n",
       "<tr>\n",
       "  <th>Prob(Omnibus):</th> <td> 0.580</td> <th>  Jarque-Bera (JB):  </th> <td>   0.401</td>\n",
       "</tr>\n",
       "<tr>\n",
       "  <th>Skew:</th>          <td>-0.443</td> <th>  Prob(JB):          </th> <td>   0.818</td>\n",
       "</tr>\n",
       "<tr>\n",
       "  <th>Kurtosis:</th>      <td> 2.870</td> <th>  Cond. No.          </th> <td>2.20e+04</td>\n",
       "</tr>\n",
       "</table><br/><br/>Notes:<br/>[1] Standard Errors assume that the covariance matrix of the errors is correctly specified.<br/>[2] The condition number is large, 2.2e+04. This might indicate that there are<br/>strong multicollinearity or other numerical problems."
      ],
      "text/latex": [
       "\\begin{center}\n",
       "\\begin{tabular}{lclc}\n",
       "\\toprule\n",
       "\\textbf{Dep. Variable:}    & Degree\\_of\\_diseas \\% & \\textbf{  R-squared:         } &     0.712   \\\\\n",
       "\\textbf{Model:}            &          OLS          & \\textbf{  Adj. R-squared:    } &     0.648   \\\\\n",
       "\\textbf{Method:}           &     Least Squares     & \\textbf{  F-statistic:       } &     11.14   \\\\\n",
       "\\textbf{Date:}             &    Sat, 11 Nov 2023   & \\textbf{  Prob (F-statistic):} &  0.00368    \\\\\n",
       "\\textbf{Time:}             &        17:43:16       & \\textbf{  Log-Likelihood:    } &   -52.356   \\\\\n",
       "\\textbf{No. Observations:} &             12        & \\textbf{  AIC:               } &     110.7   \\\\\n",
       "\\textbf{Df Residuals:}     &              9        & \\textbf{  BIC:               } &     112.2   \\\\\n",
       "\\textbf{Df Model:}         &              2        & \\textbf{                     } &             \\\\\n",
       "\\textbf{Covariance Type:}  &       nonrobust       & \\textbf{                     } &             \\\\\n",
       "\\bottomrule\n",
       "\\end{tabular}\n",
       "\\begin{tabular}{lcccccc}\n",
       "                        & \\textbf{coef} & \\textbf{std err} & \\textbf{t} & \\textbf{P$> |$t$|$} & \\textbf{[0.025} & \\textbf{0.975]}  \\\\\n",
       "\\midrule\n",
       "\\textbf{const}          &     -89.0184  &      110.906     &    -0.803  &         0.443        &     -339.905    &      161.868     \\\\\n",
       "\\textbf{Sum\\_of\\_humid} &       0.1119  &        0.042     &     2.679  &         0.025        &        0.017    &        0.206     \\\\\n",
       "\\textbf{sum\\_of\\_temp}  &      -0.0230  &        0.151     &    -0.152  &         0.883        &       -0.365    &        0.319     \\\\\n",
       "\\bottomrule\n",
       "\\end{tabular}\n",
       "\\begin{tabular}{lclc}\n",
       "\\textbf{Omnibus:}       &  1.089 & \\textbf{  Durbin-Watson:     } &    2.080  \\\\\n",
       "\\textbf{Prob(Omnibus):} &  0.580 & \\textbf{  Jarque-Bera (JB):  } &    0.401  \\\\\n",
       "\\textbf{Skew:}          & -0.443 & \\textbf{  Prob(JB):          } &    0.818  \\\\\n",
       "\\textbf{Kurtosis:}      &  2.870 & \\textbf{  Cond. No.          } & 2.20e+04  \\\\\n",
       "\\bottomrule\n",
       "\\end{tabular}\n",
       "%\\caption{OLS Regression Results}\n",
       "\\end{center}\n",
       "\n",
       "Notes: \\newline\n",
       " [1] Standard Errors assume that the covariance matrix of the errors is correctly specified. \\newline\n",
       " [2] The condition number is large, 2.2e+04. This might indicate that there are \\newline\n",
       " strong multicollinearity or other numerical problems."
      ],
      "text/plain": [
       "<class 'statsmodels.iolib.summary.Summary'>\n",
       "\"\"\"\n",
       "                            OLS Regression Results                            \n",
       "==============================================================================\n",
       "Dep. Variable:     Degree_of_diseas %   R-squared:                       0.712\n",
       "Model:                            OLS   Adj. R-squared:                  0.648\n",
       "Method:                 Least Squares   F-statistic:                     11.14\n",
       "Date:                Sat, 11 Nov 2023   Prob (F-statistic):            0.00368\n",
       "Time:                        17:43:16   Log-Likelihood:                -52.356\n",
       "No. Observations:                  12   AIC:                             110.7\n",
       "Df Residuals:                       9   BIC:                             112.2\n",
       "Df Model:                           2                                         \n",
       "Covariance Type:            nonrobust                                         \n",
       "================================================================================\n",
       "                   coef    std err          t      P>|t|      [0.025      0.975]\n",
       "--------------------------------------------------------------------------------\n",
       "const          -89.0184    110.906     -0.803      0.443    -339.905     161.868\n",
       "Sum_of_humid     0.1119      0.042      2.679      0.025       0.017       0.206\n",
       "sum_of_temp     -0.0230      0.151     -0.152      0.883      -0.365       0.319\n",
       "==============================================================================\n",
       "Omnibus:                        1.089   Durbin-Watson:                   2.080\n",
       "Prob(Omnibus):                  0.580   Jarque-Bera (JB):                0.401\n",
       "Skew:                          -0.443   Prob(JB):                        0.818\n",
       "Kurtosis:                       2.870   Cond. No.                     2.20e+04\n",
       "==============================================================================\n",
       "\n",
       "Notes:\n",
       "[1] Standard Errors assume that the covariance matrix of the errors is correctly specified.\n",
       "[2] The condition number is large, 2.2e+04. This might indicate that there are\n",
       "strong multicollinearity or other numerical problems.\n",
       "\"\"\""
      ]
     },
     "execution_count": 42,
     "metadata": {},
     "output_type": "execute_result"
    }
   ],
   "source": [
    "nicer_OLS=sm.OLS(y_train,X_train).fit()\n",
    "nicer_OLS.summary()"
   ]
  },
  {
   "cell_type": "code",
   "execution_count": null,
   "id": "c8350e9d",
   "metadata": {},
   "outputs": [],
   "source": []
  },
  {
   "cell_type": "code",
   "execution_count": null,
   "id": "c1849248",
   "metadata": {},
   "outputs": [],
   "source": []
  }
 ],
 "metadata": {
  "kernelspec": {
   "display_name": "Python 3 (ipykernel)",
   "language": "python",
   "name": "python3"
  },
  "language_info": {
   "codemirror_mode": {
    "name": "ipython",
    "version": 3
   },
   "file_extension": ".py",
   "mimetype": "text/x-python",
   "name": "python",
   "nbconvert_exporter": "python",
   "pygments_lexer": "ipython3",
   "version": "3.11.4"
  }
 },
 "nbformat": 4,
 "nbformat_minor": 5
}
